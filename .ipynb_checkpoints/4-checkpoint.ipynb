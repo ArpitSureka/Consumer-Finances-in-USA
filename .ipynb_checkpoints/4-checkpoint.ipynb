{
 "cells": [
  {
   "cell_type": "markdown",
   "id": "af32b387-69b1-4676-914a-095e88c780d4",
   "metadata": {
    "tags": []
   },
   "source": [
    "<font size=\"+3\"><strong>Interactive Dashboard</strong></font>"
   ]
  },
  {
   "cell_type": "code",
   "execution_count": null,
   "id": "ca5eb70c-c80e-430e-bf38-df36ceb397fd",
   "metadata": {
    "tags": []
   },
   "outputs": [],
   "source": [
    "import pandas as pd\n",
    "import plotly.express as px\n",
    "from dash import Input, Output, dcc, html\n",
    "from jupyter_dash import JupyterDash\n",
    "from scipy.stats.mstats import trimmed_var\n",
    "from sklearn.cluster import KMeans\n",
    "from sklearn.decomposition import PCA\n",
    "from sklearn.metrics import silhouette_score\n",
    "from sklearn.pipeline import make_pipeline\n",
    "from sklearn.preprocessing import StandardScaler"
   ]
  },
  {
   "cell_type": "code",
   "execution_count": null,
   "id": "e1018c75-c21c-40c9-9888-3715c4ef0502",
   "metadata": {},
   "outputs": [],
   "source": [
    "JupyterDash.infer_jupyter_proxy_config()"
   ]
  },
  {
   "cell_type": "markdown",
   "id": "09d45f07-ad60-470a-b546-5f81f6501508",
   "metadata": {
    "tags": []
   },
   "source": [
    "# Prepare Data"
   ]
  },
  {
   "cell_type": "markdown",
   "id": "524ddb91-b26e-46c8-a31f-ae32473240d4",
   "metadata": {
    "tags": []
   },
   "source": [
    "## Import"
   ]
  },
  {
   "cell_type": "code",
   "execution_count": null,
   "id": "a9838abc-c3ab-4206-a40d-de4bee1d0be9",
   "metadata": {
    "deletable": false
   },
   "outputs": [],
   "source": [
    "def wrangle(filepath):\n",
    "\n",
    "    \"\"\"Read SCF data file into ``DataFrame``.\n",
    "\n",
    "    Returns only credit fearful households whose net worth is less than $2 million.\n",
    "\n",
    "    Parameters\n",
    "    ----------\n",
    "    filepath : str\n",
    "        Location of CSV file.\n",
    "    \"\"\"\n",
    "    df = pd.read_csv(filepath)\n",
    "    mask = (df[\"TURNFEAR\"] == 1) & (df[\"NETWORTH\"] < 2e6)\n",
    "    df = df[mask]\n",
    "    \n",
    "    return df"
   ]
  },
  {
   "cell_type": "code",
   "execution_count": null,
   "id": "0d5e7904-a278-4005-96e2-461ef3b7aed5",
   "metadata": {
    "deletable": false
   },
   "outputs": [],
   "source": [
    "df = wrangle(\"data/SCFP2019.csv.gz\")\n",
    "print(df.shape)\n",
    "df.head()"
   ]
  },
  {
   "cell_type": "markdown",
   "id": "14c46dc7-23ae-4194-adc9-8be47cff4090",
   "metadata": {
    "tags": []
   },
   "source": [
    "# Build Dashboard"
   ]
  },
  {
   "cell_type": "markdown",
   "id": "063b0371-9a99-443e-9cdb-9129813db84c",
   "metadata": {
    "tags": []
   },
   "source": [
    "## Application Layout"
   ]
  },
  {
   "cell_type": "code",
   "execution_count": null,
   "id": "31c32471-9621-47c3-afae-4ca46930c1e8",
   "metadata": {
    "deletable": false
   },
   "outputs": [],
   "source": [
    "app = JupyterDash(__name__)"
   ]
  },
  {
   "cell_type": "code",
   "execution_count": null,
   "id": "bb6f5bcc-e481-418d-b091-03c467721d3d",
   "metadata": {
    "deletable": false
   },
   "outputs": [],
   "source": [
    "app.layout = html.Div(\n",
    "    [\n",
    "        html.H1(\"Survey of Consumer Finances\"),\n",
    "        html.H2(\"High Variance Features\"),\n",
    "        dcc.Graph(figure=serve_bar_chart(), id=\"bar-chart\"),\n",
    "        dcc.RadioItems(\n",
    "            options=[\n",
    "                {\"label\" : \"trimmed\", \"value\" : True},\n",
    "                {\"label\" : \"not trimmed\", \"value\" : False}\n",
    "            ],\n",
    "            value=True,\n",
    "            id=\"trim-button\"\n",
    "        ),\n",
    "        html.H2(\"K-Means Clusturing\"),\n",
    "        html.H3(\"Number of Clusters (k)\"),\n",
    "        dcc.Slider(min=2, max=12, step=1, value=2, id=\"k-slider\"),\n",
    "        html.Div(id=\"metrics\"),\n",
    "        dcc.Graph(id=\"pca-scatter\"),\n",
    "    ]\n",
    ")"
   ]
  },
  {
   "cell_type": "markdown",
   "id": "f720959c-1648-44f2-a1b0-b436fa605eb5",
   "metadata": {
    "tags": []
   },
   "source": [
    "## Variance Bar Chart"
   ]
  },
  {
   "cell_type": "code",
   "execution_count": null,
   "id": "34b08cee-6d89-4a3c-b573-2f36f1b88959",
   "metadata": {
    "deletable": false
   },
   "outputs": [],
   "source": [
    "def get_high_var_features(trimmed=True, return_feat_names=True):\n",
    "\n",
    "    \"\"\"Returns the five highest-variance features of ``df``.\n",
    "\n",
    "    Parameters\n",
    "    ----------\n",
    "    trimmed : bool, default=True\n",
    "        If ``True``, calculates trimmed variance, removing bottom and top 10%\n",
    "        of observations.\n",
    "\n",
    "    return_feat_names : bool, default=False\n",
    "        If ``True``, returns feature names as a ``list``. If ``False``\n",
    "        returns ``Series``, where index is feature names and values are\n",
    "        variances.\n",
    "    \"\"\"\n",
    "    if trimmed:\n",
    "        top_five_features = (\n",
    "            df.apply(trimmed_var).sort_values().tail(5)\n",
    "        )\n",
    "    else:\n",
    "        top_five_features = df.var().sort_values().tail(5)\n",
    "        \n",
    "    if return_feat_names:\n",
    "        top_five_features = top_five_features.index.tolist()\n",
    "    \n",
    "    return top_five_features"
   ]
  },
  {
   "cell_type": "code",
   "execution_count": null,
   "id": "2f8cd50f-db8a-4bce-a07e-ca1f479ea271",
   "metadata": {
    "deletable": false
   },
   "outputs": [],
   "source": [
    "@app.callback(\n",
    "    Output(\"bar-chart\", \"figure\"), Input(\"trim-button\", \"value\")\n",
    ")\n",
    "def serve_bar_chart(trimmed=True):\n",
    "\n",
    "    \"\"\"Returns a horizontal bar chart of five highest-variance features.\n",
    "\n",
    "    Parameters\n",
    "    ----------\n",
    "    trimmed : bool, default=True\n",
    "        If ``True``, calculates trimmed variance, removing bottom and top 10%\n",
    "        of observations.\n",
    "    \"\"\"\n",
    "    top_five_features = get_high_var_features(trimmed=trimmed, return_feat_names=False)\n",
    "    fig = px.bar(x=top_five_features, y=top_five_features.index, orientation='h')\n",
    "    fig.update_layout(xaxis_title=\"Variance\", yaxis_title=\"Feature\")\n",
    "    return fig"
   ]
  },
  {
   "cell_type": "markdown",
   "id": "4839f4b4-e967-4a11-9d57-73f7db0e0c18",
   "metadata": {
    "tags": []
   },
   "source": [
    "## K-means Slider and Metrics"
   ]
  },
  {
   "cell_type": "code",
   "execution_count": null,
   "id": "48dad925-6043-48a8-9d43-ae53bdefbbe2",
   "metadata": {
    "deletable": false
   },
   "outputs": [],
   "source": [
    "def get_model_metrics(trimmed=True, k=2, return_metrics=False):\n",
    "\n",
    "    \"\"\"Build ``KMeans`` model based on five highest-variance features in ``df``.\n",
    "\n",
    "    Parameters\n",
    "    ----------\n",
    "    trimmed : bool, default=True\n",
    "        If ``True``, calculates trimmed variance, removing bottom and top 10%\n",
    "        of observations.\n",
    "\n",
    "    k : int, default=2\n",
    "        Number of clusters.\n",
    "\n",
    "    return_metrics : bool, default=False\n",
    "        If ``False`` returns ``KMeans`` model. If ``True`` returns ``dict``\n",
    "        with inertia and silhouette score.\n",
    "\n",
    "    \"\"\"\n",
    "    features = get_high_var_features(trimmed=trimmed, return_feat_names=True)\n",
    "    X=df[features]\n",
    "    model = make_pipeline(StandardScaler(), KMeans(n_clusters=k, random_state=42))\n",
    "    model.fit(X)\n",
    "    \n",
    "    if return_metrics:\n",
    "        i = model.named_steps[\"kmeans\"].inertia_\n",
    "        ss = silhouette_score(X, model.named_steps[\"kmeans\"].labels_)\n",
    "        metrics = {\n",
    "            \"inertia\" : round(i),\n",
    "            \"silhouette\" : round(ss, 3), \n",
    "        }\n",
    "        return metrics \n",
    "    \n",
    "    return model"
   ]
  },
  {
   "cell_type": "code",
   "execution_count": null,
   "id": "c75ad50a-7b8c-497b-9a7d-782ce287e0a5",
   "metadata": {
    "deletable": false
   },
   "outputs": [],
   "source": [
    "@app.callback(\n",
    "    Output(\"metrics\", \"children\"),\n",
    "    Input(\"trim-button\", \"value\"),\n",
    "    Input(\"k-slider\", \"value\")\n",
    ")\n",
    "def serve_metrics(trimmed=True, k=2):\n",
    "\n",
    "    \"\"\"Returns list of ``H3`` elements containing inertia and silhouette score\n",
    "    for ``KMeans`` model.\n",
    "\n",
    "    Parameters\n",
    "    ----------\n",
    "    trimmed : bool, default=True\n",
    "        If ``True``, calculates trimmed variance, removing bottom and top 10%\n",
    "        of observations.\n",
    "\n",
    "    k : int, default=2\n",
    "        Number of clusters.\n",
    "    \"\"\"\n",
    "    metrics = get_model_metrics(trimmed=trimmed, k=k, return_metrics=True)\n",
    "    text = [\n",
    "        html.H3(f\"Inertia: {metrics['inertia']}\"),\n",
    "        html.H3(f\"Silhouette Score: {metrics['silhouette']}\"),\n",
    "    ]\n",
    "    \n",
    "    return text"
   ]
  },
  {
   "cell_type": "markdown",
   "id": "e1fe4c0b-0bac-400f-bdd1-1b1fce8d355a",
   "metadata": {
    "tags": []
   },
   "source": [
    "## PCA Scatter Plot"
   ]
  },
  {
   "cell_type": "code",
   "execution_count": null,
   "id": "aa8ee497-e89f-439f-984a-d5051daeeca4",
   "metadata": {
    "deletable": false
   },
   "outputs": [],
   "source": [
    "def get_pca_labels(trimmed=True, k=2):\n",
    "\n",
    "    \"\"\"\n",
    "    ``KMeans`` labels.\n",
    "\n",
    "    Parameters\n",
    "    ----------\n",
    "    trimmed : bool, default=True\n",
    "        If ``True``, calculates trimmed variance, removing bottom and top 10%\n",
    "        of observations.\n",
    "\n",
    "    k : int, default=2\n",
    "        Number of clusters.\n",
    "    \"\"\"\n",
    "    features = get_high_var_features(trimmed=trimmed, return_feat_names=True)\n",
    "    X = df[features]\n",
    "    transformer = PCA(n_components=2, random_state=42) \n",
    "    X_t = transformer.fit_transform(X)\n",
    "    X_pca = pd.DataFrame(X_t, columns=[\"PC1\", \"PC2\"])\n",
    "    model = get_model_metrics(trimmed=trimmed, k=k, return_metrics=False)\n",
    "    X_pca[\"labels\"] = model.named_steps[\"kmeans\"].labels_.astype(str)\n",
    "    X_pca.sort_values(\"labels\", inplace=True)\n",
    "    return X_pca"
   ]
  },
  {
   "cell_type": "code",
   "execution_count": null,
   "id": "f8314cd4-e49b-41ef-857b-5c4a54e213ca",
   "metadata": {
    "deletable": false
   },
   "outputs": [],
   "source": [
    "app.callback(\n",
    "    Output(\"pca-scatter\", \"figure\"),\n",
    "    Input(\"trim-button\", \"value\"),\n",
    "    Input(\"k-slider\", \"value\")\n",
    ")\n",
    "def serve_scatter_plot(trimmed=True, k=2):\n",
    "\n",
    "    \"\"\"Build 2D scatter plot of ``df`` with ``KMeans`` labels.\n",
    "\n",
    "    Parameters\n",
    "    ----------\n",
    "    trimmed : bool, default=True\n",
    "        If ``True``, calculates trimmed variance, removing bottom and top 10%\n",
    "        of observations.\n",
    "\n",
    "    k : int, default=2\n",
    "        Number of clusters.\n",
    "    \"\"\"\n",
    "    fig=px.scatter(\n",
    "        data_frame=get_pca_labels(trimmed=trimmed, k=k),\n",
    "        x=\"PC1\",\n",
    "        y=\"PC2\",\n",
    "        color=\"labels\",\n",
    "        title=\"PCA Representation of Clusters\"\n",
    "    )\n",
    "    \n",
    "    return fig"
   ]
  },
  {
   "cell_type": "markdown",
   "id": "f5d41c5f-2272-4a53-89f1-abb6a47d09f7",
   "metadata": {
    "tags": []
   },
   "source": [
    "## Application Deployment"
   ]
  },
  {
   "cell_type": "code",
   "execution_count": null,
   "id": "b2d947df-bda3-466a-96bb-ac2f8aa588f0",
   "metadata": {
    "tags": []
   },
   "outputs": [],
   "source": [
    "app.run_server(host=\"0.0.0.0\", mode=\"external\")"
   ]
  }
 ],
 "metadata": {
  "kernelspec": {
   "display_name": "Python 3 (ipykernel)",
   "language": "python",
   "name": "python3"
  },
  "language_info": {
   "codemirror_mode": {
    "name": "ipython",
    "version": 3
   },
   "file_extension": ".py",
   "mimetype": "text/x-python",
   "name": "python",
   "nbconvert_exporter": "python",
   "pygments_lexer": "ipython3",
   "version": "3.9.12"
  }
 },
 "nbformat": 4,
 "nbformat_minor": 5
}
